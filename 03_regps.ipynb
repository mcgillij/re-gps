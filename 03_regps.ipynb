{
 "cells": [
  {
   "cell_type": "code",
   "execution_count": null,
   "id": "c373812d",
   "metadata": {},
   "outputs": [],
   "source": [
    "#| default_exp regps"
   ]
  },
  {
   "cell_type": "markdown",
   "id": "2cb910e5",
   "metadata": {},
   "source": [
    "# regps\n",
    "> Re-add GPS data stripped by Google using location data exported from Google Takeout."
   ]
  },
  {
   "cell_type": "code",
   "execution_count": null,
   "id": "f763664f",
   "metadata": {},
   "outputs": [],
   "source": [
    "#| hide\n",
    "from nbdev.showdoc import *"
   ]
  },
  {
   "cell_type": "code",
   "execution_count": null,
   "id": "6be0cfce",
   "metadata": {},
   "outputs": [],
   "source": [
    "#| export\n",
    "import glob\n",
    "\n",
    "from regps.json_explorer import *\n",
    "from regps.exif_explorer import *\n",
    "from regps.date_compare import *"
   ]
  },
  {
   "cell_type": "code",
   "execution_count": null,
   "id": "9e77fb24",
   "metadata": {},
   "outputs": [],
   "source": [
    "#| export\n",
    "def regps(image_path, # \"sample-data/*.jpg\"\n",
    "         location_data, # \"sample-data/sample.json\"\n",
    "         output_path # \"output\"\n",
    "    ):\n",
    "    \"\"\"Take Google Location data, and map it to an image folder based on date detals\"\"\"\n",
    "    images = glob.glob(image_path)\n",
    "    image_list = extract_exif(images)\n",
    "    locations = build_location_history(get_locations(location_data))\n",
    "\n",
    "    deltas = get_smallest_deltas(image_list, locations)\n",
    "    imgs_w_data = de_google_gps_info(deltas, image_list, locations)\n",
    "\n",
    "    write_gps_info_to_images(imgs_w_data, output_path)"
   ]
  },
  {
   "cell_type": "code",
   "execution_count": null,
   "id": "8dae30ec",
   "metadata": {},
   "outputs": [
    {
     "data": {
      "text/markdown": [
       "---\n",
       "\n",
       "#### regps\n",
       "\n",
       ">      regps (image_path, location_data, output_path)\n",
       "\n",
       "Take Google Location data, and map it to an image folder based on date detals\n",
       "\n",
       "|    | **Details** |\n",
       "| -- | ----------- |\n",
       "| image_path | \"sample-data/*.jpg\" |\n",
       "| location_data | \"sample-data/sample.json\" |\n",
       "| output_path | \"output\" |"
      ],
      "text/plain": [
       "<nbdev.showdoc.BasicMarkdownRenderer at 0x7f05b2e6b580>"
      ]
     },
     "execution_count": null,
     "metadata": {},
     "output_type": "execute_result"
    }
   ],
   "source": [
    "#| hide\n",
    "show_doc(regps)"
   ]
  },
  {
   "cell_type": "code",
   "execution_count": null,
   "id": "4d434f17",
   "metadata": {},
   "outputs": [],
   "source": [
    "from nbdev.doclinks import nbdev_export\n",
    "nbdev_export()"
   ]
  }
 ],
 "metadata": {
  "kernelspec": {
   "display_name": "Python 3 (ipykernel)",
   "language": "python",
   "name": "python3"
  }
 },
 "nbformat": 4,
 "nbformat_minor": 5
}
