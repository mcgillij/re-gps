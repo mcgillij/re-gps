{
 "cells": [
  {
   "cell_type": "code",
   "execution_count": null,
   "metadata": {},
   "outputs": [],
   "source": [
    "#|hide\n",
    "from nbdev.showdoc import *"
   ]
  },
  {
   "cell_type": "markdown",
   "metadata": {},
   "source": [
    "# ReGPS\n",
    "\n",
    "> Re-Insert the GPS data that Google strips out of your images, using location data.\n",
    "\n",
    "Your image files will not be altered, modified copies will be saved with updated GPS data to the `output` folder you specified."
   ]
  },
  {
   "cell_type": "markdown",
   "metadata": {},
   "source": [
    "## Install"
   ]
  },
  {
   "cell_type": "markdown",
   "metadata": {},
   "source": [
    "`pip install -e . ` if you're working locally"
   ]
  },
  {
   "cell_type": "markdown",
   "metadata": {},
   "source": [
    "## How to use"
   ]
  },
  {
   "cell_type": "markdown",
   "metadata": {},
   "source": [
    "> You will need your location history in JSON form, and the path to your images:\n",
    "you can replace `sample-data` with a path to your image files."
   ]
  },
  {
   "cell_type": "code",
   "execution_count": null,
   "metadata": {},
   "outputs": [],
   "source": [
    "from regps.regps import regps\n",
    "image_path = \"sample-data/*.jpg\"\n",
    "location_data = \"sample-data/sample.json\"\n",
    "output_path = \"/tmp\"\n",
    "\n",
    "regps(image_path, location_data, output_path)"
   ]
  },
  {
   "cell_type": "code",
   "execution_count": null,
   "metadata": {},
   "outputs": [
    {
     "data": {
      "text/markdown": [
       "---\n",
       "\n",
       "#### regps\n",
       "\n",
       ">      regps (image_path, location_data, output_path)\n",
       "\n",
       "Take Google Location data, and map it to an image folder based on date detals\n",
       "\n",
       "|    | **Details** |\n",
       "| -- | ----------- |\n",
       "| image_path | \"sample-data/*.jpg\" |\n",
       "| location_data | \"sample-data/sample.json\" |\n",
       "| output_path | \"output\" |"
      ],
      "text/plain": [
       "<nbdev.showdoc.BasicMarkdownRenderer at 0x7f7bb37da770>"
      ]
     },
     "execution_count": null,
     "metadata": {},
     "output_type": "execute_result"
    }
   ],
   "source": [
    "show_doc(regps)"
   ]
  }
 ],
 "metadata": {
  "kernelspec": {
   "display_name": "Python 3 (ipykernel)",
   "language": "python",
   "name": "python3"
  }
 },
 "nbformat": 4,
 "nbformat_minor": 4
}
