{
 "cells": [
  {
   "cell_type": "code",
   "execution_count": null,
   "metadata": {},
   "outputs": [],
   "source": [
    "#| default_exp json_explorer"
   ]
  },
  {
   "cell_type": "markdown",
   "metadata": {},
   "source": [
    "# json_explorer\n",
    "\n",
    "> playing around with the google takeout json."
   ]
  },
  {
   "cell_type": "code",
   "execution_count": null,
   "metadata": {},
   "outputs": [],
   "source": [
    "#| hide\n",
    "from nbdev.showdoc import *"
   ]
  },
  {
   "cell_type": "code",
   "execution_count": null,
   "metadata": {},
   "outputs": [],
   "source": [
    "#| export\n",
    "from collections import namedtuple\n",
    "\n",
    "# make a datastructure to hold location data\n",
    "Location = namedtuple(\"Location\", [\"timestamp\", \"latitude\", \"longitude\", \"accuracy\"])\n"
   ]
  },
  {
   "cell_type": "code",
   "execution_count": null,
   "metadata": {},
   "outputs": [
    {
     "name": "stdout",
     "output_type": "stream",
     "text": [
      "1656110335\n",
      "1656110335\n"
     ]
    }
   ],
   "source": [
    "#| export\n",
    "from datetime import datetime\n",
    "\n",
    "def get_timestamp(timestamp):\n",
    "    \"\"\"\n",
    "    Google stores the timestamp in different formats, making this annoying\n",
    "    \"\"\"\n",
    "    try:\n",
    "        first_format = \"%Y-%m-%dT%H:%M:%S.%fZ\"\n",
    "        timestamp=datetime.strptime(timestamp, first_format)\n",
    "    except:\n",
    "        second_format = \"%Y-%m-%dT%H:%M:%SZ\"\n",
    "        timestamp=datetime.strptime(timestamp, second_format)\n",
    "    return int(timestamp.timestamp())\n",
    "\n",
    "# test data\n",
    "test_string = \"2022-06-24T19:38:55.633Z\"\n",
    "print(get_timestamp(test_string))\n",
    "test_string2 = \"2022-06-24T19:38:55Z\"\n",
    "print(get_timestamp(test_string2))"
   ]
  },
  {
   "cell_type": "code",
   "execution_count": null,
   "metadata": {},
   "outputs": [
    {
     "data": {
      "text/markdown": [
       "---\n",
       "\n",
       "#### get_timestamp\n",
       "\n",
       ">      get_timestamp (timestamp)\n",
       "\n",
       "Google stores the timestamp in different formats, making this annoying"
      ],
      "text/plain": [
       "<nbdev.showdoc.BasicMarkdownRenderer at 0x7f21a851ead0>"
      ]
     },
     "execution_count": null,
     "metadata": {},
     "output_type": "execute_result"
    }
   ],
   "source": [
    "show_doc(get_timestamp)"
   ]
  },
  {
   "cell_type": "code",
   "execution_count": null,
   "metadata": {},
   "outputs": [
    {
     "name": "stdout",
     "output_type": "stream",
     "text": [
      "672293\n",
      "{'accuracy': 45,\n",
      " 'deviceTag': 586642716,\n",
      " 'latitudeE7': 446549213,\n",
      " 'longitudeE7': -635836178,\n",
      " 'source': 'WIFI',\n",
      " 'timestamp': '2016-06-29T13:13:01.899Z'}\n",
      "{'accuracy': 17,\n",
      " 'activeWifiScan': {'accessPoints': [{'frequencyMhz': 2462,\n",
      "                                      'mac': '229074580028182',\n",
      "                                      'strength': -53},\n",
      "                                     {'frequencyMhz': 5220,\n",
      "                                      'mac': '229074580028183',\n",
      "                                      'strength': -56},\n",
      "                                     {'frequencyMhz': 2437,\n",
      "                                      'isConnected': True,\n",
      "                                      'mac': '189371410968206',\n",
      "                                      'strength': -68},\n",
      "                                     {'frequencyMhz': 2437,\n",
      "                                      'mac': '145824591200902',\n",
      "                                      'strength': -74},\n",
      "                                     {'frequencyMhz': 5220,\n",
      "                                      'mac': '145824591200903',\n",
      "                                      'strength': -76},\n",
      "                                     {'frequencyMhz': 2437,\n",
      "                                      'mac': '233121675075047',\n",
      "                                      'strength': -77},\n",
      "                                     {'frequencyMhz': 2462,\n",
      "                                      'mac': '145830536715294',\n",
      "                                      'strength': -79},\n",
      "                                     {'frequencyMhz': 2462,\n",
      "                                      'mac': '62053897213088',\n",
      "                                      'strength': -80},\n",
      "                                     {'frequencyMhz': 2437,\n",
      "                                      'mac': '53566110409592',\n",
      "                                      'strength': -81},\n",
      "                                     {'frequencyMhz': 5220,\n",
      "                                      'mac': '189371410968207',\n",
      "                                      'strength': -84},\n",
      "                                     {'frequencyMhz': 2437,\n",
      "                                      'mac': '272803701169000',\n",
      "                                      'strength': -85},\n",
      "                                     {'frequencyMhz': 5220,\n",
      "                                      'mac': '145830536715295',\n",
      "                                      'strength': -86},\n",
      "                                     {'frequencyMhz': 2412,\n",
      "                                      'mac': '189371410492934',\n",
      "                                      'strength': -86},\n",
      "                                     {'frequencyMhz': 2462,\n",
      "                                      'mac': '62053904233344',\n",
      "                                      'strength': -88},\n",
      "                                     {'frequencyMhz': 5660,\n",
      "                                      'mac': '145824591200901',\n",
      "                                      'strength': -88},\n",
      "                                     {'frequencyMhz': 5660,\n",
      "                                      'mac': '189371410968205',\n",
      "                                      'strength': -90},\n",
      "                                     {'frequencyMhz': 5765,\n",
      "                                      'mac': '233121675075045',\n",
      "                                      'strength': -90},\n",
      "                                     {'frequencyMhz': 5765,\n",
      "                                      'mac': '233121675075051',\n",
      "                                      'strength': -90},\n",
      "                                     {'frequencyMhz': 5765,\n",
      "                                      'mac': '233121675075048',\n",
      "                                      'strength': -90},\n",
      "                                     {'frequencyMhz': 2412,\n",
      "                                      'mac': '49036251546657',\n",
      "                                      'strength': -91},\n",
      "                                     {'frequencyMhz': 5180,\n",
      "                                      'mac': '233121675075043',\n",
      "                                      'strength': -91},\n",
      "                                     {'frequencyMhz': 5180,\n",
      "                                      'mac': '233121675075049',\n",
      "                                      'strength': -91},\n",
      "                                     {'frequencyMhz': 5180,\n",
      "                                      'mac': '233121675075046',\n",
      "                                      'strength': -91}]},\n",
      " 'activity': [{'activity': [{'confidence': 41, 'type': 'UNKNOWN'},\n",
      "                            {'confidence': 10, 'type': 'IN_VEHICLE'},\n",
      "                            {'confidence': 10, 'type': 'ON_BICYCLE'},\n",
      "                            {'confidence': 10, 'type': 'ON_FOOT'},\n",
      "                            {'confidence': 10, 'type': 'STILL'},\n",
      "                            {'confidence': 10, 'type': 'WALKING'},\n",
      "                            {'confidence': 10, 'type': 'RUNNING'},\n",
      "                            {'confidence': 10, 'type': 'IN_ROAD_VEHICLE'},\n",
      "                            {'confidence': 10, 'type': 'IN_RAIL_VEHICLE'}],\n",
      "               'timestamp': '2022-07-29T21:02:09.958Z'},\n",
      "              {'activity': [{'confidence': 92, 'type': 'ON_FOOT'},\n",
      "                            {'confidence': 92, 'type': 'WALKING'},\n",
      "                            {'confidence': 2, 'type': 'IN_VEHICLE'},\n",
      "                            {'confidence': 2, 'type': 'STILL'},\n",
      "                            {'confidence': 2, 'type': 'RUNNING'},\n",
      "                            {'confidence': 2, 'type': 'IN_ROAD_VEHICLE'},\n",
      "                            {'confidence': 1, 'type': 'ON_BICYCLE'},\n",
      "                            {'confidence': 1, 'type': 'IN_RAIL_VEHICLE'},\n",
      "                            {'confidence': 0, 'type': 'UNKNOWN'}],\n",
      "               'timestamp': '2022-07-29T21:06:24.966Z'}],\n",
      " 'altitude': 52,\n",
      " 'batteryCharging': False,\n",
      " 'deviceTag': 1416763344,\n",
      " 'deviceTimestamp': '2022-07-29T21:08:59.179Z',\n",
      " 'formFactor': 'PHONE',\n",
      " 'latitudeE7': 446579163,\n",
      " 'longitudeE7': -636416645,\n",
      " 'osLevel': 30,\n",
      " 'platformType': 'ANDROID',\n",
      " 'serverTimestamp': '2022-07-29T21:08:59.509Z',\n",
      " 'source': 'WIFI',\n",
      " 'timestamp': '2022-07-29T21:08:40.020Z',\n",
      " 'verticalAccuracy': 4}\n"
     ]
    }
   ],
   "source": [
    "#| export\n",
    "import json\n",
    "from pprint import pprint\n",
    "\n",
    "file_to_open = \"sample-data/Records.json\"\n",
    "def open_json_file(file_to_open): \n",
    "    with open(file_to_open, 'r') as f:\n",
    "        return json.load(f)\n",
    "    \n",
    "    \n",
    "output = open_json_file(file_to_open)\n",
    "locations = [l for l in output[\"locations\"]]\n",
    "\n",
    "print(len(locations))\n",
    "pprint(locations[1])\n",
    "pprint(locations[-1])\n",
    "        "
   ]
  },
  {
   "cell_type": "code",
   "execution_count": null,
   "metadata": {},
   "outputs": [
    {
     "name": "stdout",
     "output_type": "stream",
     "text": [
      "672291\n",
      "Location(timestamp=1467216494, latitude=446549411, longitude=-635836042, accuracy=41)\n",
      "Location(timestamp=1659139720, latitude=446579163, longitude=-636416645, accuracy=17)\n"
     ]
    }
   ],
   "source": [
    "#| export\n",
    "\n",
    "# build up the location history\n",
    "# due to the malformed google data, not all entries have latitudeE7/longitudeE7\n",
    "# and the differing timestamps, best effort to parse those.\n",
    "\n",
    "def build_location_history(locations):\n",
    "    location_history = []\n",
    "    for l in locations:\n",
    "        if l.get(\"latitudeE7\"):\n",
    "            location_history.append(\n",
    "                Location(get_timestamp(l[\"timestamp\"]), l[\"latitudeE7\"], l[\"longitudeE7\"], l[\"accuracy\"])\n",
    "            )\n",
    "    # sort by timestamp\n",
    "    location_history.sort(key=lambda location: location.timestamp)\n",
    "    return location_history\n",
    "\n",
    "\n",
    "print(len(location_history))\n",
    "print(location_history[0])\n",
    "print(location_history[-1])"
   ]
  },
  {
   "cell_type": "code",
   "execution_count": null,
   "metadata": {},
   "outputs": [],
   "source": [
    "from nbdev.doclinks import nbdev_export\n",
    "nbdev_export()"
   ]
  }
 ],
 "metadata": {
  "kernelspec": {
   "display_name": "Python 3 (ipykernel)",
   "language": "python",
   "name": "python3"
  }
 },
 "nbformat": 4,
 "nbformat_minor": 4
}
