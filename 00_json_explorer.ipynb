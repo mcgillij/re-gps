{
 "cells": [
  {
   "cell_type": "code",
   "execution_count": null,
   "metadata": {},
   "outputs": [],
   "source": [
    "#| default_exp json_explorer"
   ]
  },
  {
   "cell_type": "markdown",
   "metadata": {},
   "source": [
    "# json_explorer\n",
    "\n",
    "> exploring the google takeout location history json."
   ]
  },
  {
   "cell_type": "code",
   "execution_count": null,
   "metadata": {},
   "outputs": [],
   "source": [
    "#| hide\n",
    "from nbdev.showdoc import *"
   ]
  },
  {
   "cell_type": "markdown",
   "metadata": {},
   "source": [
    "Imports"
   ]
  },
  {
   "cell_type": "code",
   "execution_count": null,
   "metadata": {},
   "outputs": [],
   "source": [
    "#| export\n",
    "from datetime import datetime\n",
    "from collections import namedtuple\n",
    "import json"
   ]
  },
  {
   "cell_type": "code",
   "execution_count": null,
   "metadata": {},
   "outputs": [],
   "source": [
    "#| export\n",
    "\n",
    "# make a datastructure to hold location data\n",
    "Location = namedtuple(\"Location\", [\"timestamp\", \"latitude\", \"longitude\", \"accuracy\"])"
   ]
  },
  {
   "cell_type": "markdown",
   "metadata": {},
   "source": [
    "This is kinda neat that I can fire markdown in here. \n",
    "BTW #| export is magic to mean export it into the source file when we run `nbdev_export`"
   ]
  },
  {
   "cell_type": "code",
   "execution_count": null,
   "metadata": {},
   "outputs": [],
   "source": [
    "#| export\n",
    "\n",
    "def get_timestamp(timestamp): # Example: 2022-06-24T19:38:55.633Z or 2022-06-24T19:38:55Z\n",
    "    \"\"\"\n",
    "    Google stores the timestamp in different formats, making this annoying\n",
    "    \"\"\"\n",
    "    try:\n",
    "        first_format = \"%Y-%m-%dT%H:%M:%S.%fZ\"\n",
    "        timestamp=datetime.strptime(timestamp, first_format)\n",
    "    except:\n",
    "        second_format = \"%Y-%m-%dT%H:%M:%SZ\"\n",
    "        timestamp=datetime.strptime(timestamp, second_format)\n",
    "    return int(timestamp.timestamp())"
   ]
  },
  {
   "cell_type": "code",
   "execution_count": null,
   "metadata": {},
   "outputs": [
    {
     "data": {
      "text/markdown": [
       "---\n",
       "\n",
       "#### get_timestamp\n",
       "\n",
       ">      get_timestamp (timestamp)\n",
       "\n",
       "Google stores the timestamp in different formats, making this annoying\n",
       "\n",
       "|    | **Details** |\n",
       "| -- | ----------- |\n",
       "| timestamp | Example: 2022-06-24T19:38:55.633Z or 2022-06-24T19:38:55Z |"
      ],
      "text/plain": [
       "<nbdev.showdoc.BasicMarkdownRenderer at 0x7fcecc670790>"
      ]
     },
     "execution_count": null,
     "metadata": {},
     "output_type": "execute_result"
    }
   ],
   "source": [
    "show_doc(get_timestamp)"
   ]
  },
  {
   "cell_type": "code",
   "execution_count": null,
   "metadata": {},
   "outputs": [
    {
     "data": {
      "text/plain": [
       "1656110335"
      ]
     },
     "execution_count": null,
     "metadata": {},
     "output_type": "execute_result"
    }
   ],
   "source": [
    "# test data\n",
    "test_string = \"2022-06-24T19:38:55.633Z\"\n",
    "get_timestamp(test_string)"
   ]
  },
  {
   "cell_type": "code",
   "execution_count": null,
   "metadata": {},
   "outputs": [
    {
     "data": {
      "text/plain": [
       "1656110335"
      ]
     },
     "execution_count": null,
     "metadata": {},
     "output_type": "execute_result"
    }
   ],
   "source": [
    "test_string2 = \"2022-06-24T19:38:55Z\"\n",
    "get_timestamp(test_string2)"
   ]
  },
  {
   "cell_type": "code",
   "execution_count": null,
   "metadata": {},
   "outputs": [],
   "source": [
    "file_to_open = \"sample-data/sample.json\""
   ]
  },
  {
   "cell_type": "markdown",
   "metadata": {},
   "source": [
    "sample data to validate the google json export format"
   ]
  },
  {
   "cell_type": "code",
   "execution_count": null,
   "metadata": {},
   "outputs": [],
   "source": [
    "#| export\n",
    "\n",
    "def get_locations(file_to_open): \n",
    "    with open(file_to_open, 'r') as f:\n",
    "        json_file = json.load(f)\n",
    "        return [l for l in json_file[\"locations\"]]    "
   ]
  },
  {
   "cell_type": "code",
   "execution_count": null,
   "metadata": {},
   "outputs": [],
   "source": [
    "locations = get_locations(file_to_open)"
   ]
  },
  {
   "cell_type": "code",
   "execution_count": null,
   "metadata": {},
   "outputs": [
    {
     "data": {
      "text/plain": [
       "58"
      ]
     },
     "execution_count": null,
     "metadata": {},
     "output_type": "execute_result"
    }
   ],
   "source": [
    "len(locations)"
   ]
  },
  {
   "cell_type": "code",
   "execution_count": null,
   "metadata": {},
   "outputs": [
    {
     "data": {
      "text/plain": [
       "{'latitudeE7': 446549213,\n",
       " 'longitudeE7': -635836178,\n",
       " 'accuracy': 45,\n",
       " 'source': 'WIFI',\n",
       " 'timestamp': '2016-06-29T13:13:01.899Z'}"
      ]
     },
     "execution_count": null,
     "metadata": {},
     "output_type": "execute_result"
    }
   ],
   "source": [
    "locations[1]"
   ]
  },
  {
   "cell_type": "code",
   "execution_count": null,
   "metadata": {},
   "outputs": [
    {
     "data": {
      "text/plain": [
       "{'latitudeE7': 446551683,\n",
       " 'longitudeE7': -635835479,\n",
       " 'accuracy': 111,\n",
       " 'source': 'WIFI',\n",
       " 'timestamp': '2016-06-29T16:29:08.374Z'}"
      ]
     },
     "execution_count": null,
     "metadata": {},
     "output_type": "execute_result"
    }
   ],
   "source": [
    "locations[-1]"
   ]
  },
  {
   "cell_type": "code",
   "execution_count": null,
   "metadata": {},
   "outputs": [],
   "source": [
    "#| export\n",
    "\n",
    "# build up the location history\n",
    "# due to the malformed google data, not all entries have latitudeE7/longitudeE7\n",
    "# and the differing timestamps, best effort to parse those.\n",
    "\n",
    "def build_location_history(locations):\n",
    "    location_history = [Location(get_timestamp(l[\"timestamp\"]), l[\"latitudeE7\"], l[\"longitudeE7\"], l[\"accuracy\"]) for l in locations if l.get(\"latitudeE7\")]\n",
    "    # sort by timestamp\n",
    "    location_history.sort(key=lambda location: location.timestamp)\n",
    "    return location_history"
   ]
  },
  {
   "cell_type": "markdown",
   "metadata": {},
   "source": [
    "more validation of output, note that these don't get exported to the library"
   ]
  },
  {
   "cell_type": "code",
   "execution_count": null,
   "metadata": {},
   "outputs": [],
   "source": [
    "location_history = build_location_history(locations)\n",
    "assert len(location_history) == 58"
   ]
  },
  {
   "cell_type": "code",
   "execution_count": null,
   "metadata": {},
   "outputs": [
    {
     "data": {
      "text/plain": [
       "Location(timestamp=1467216494, latitude=446549411, longitude=-635836042, accuracy=41)"
      ]
     },
     "execution_count": null,
     "metadata": {},
     "output_type": "execute_result"
    }
   ],
   "source": [
    "location_history[0]"
   ]
  },
  {
   "cell_type": "code",
   "execution_count": null,
   "metadata": {},
   "outputs": [
    {
     "data": {
      "text/plain": [
       "Location(timestamp=1467228548, latitude=446551683, longitude=-635835479, accuracy=111)"
      ]
     },
     "execution_count": null,
     "metadata": {},
     "output_type": "execute_result"
    }
   ],
   "source": [
    "location_history[-1]"
   ]
  },
  {
   "cell_type": "code",
   "execution_count": null,
   "metadata": {},
   "outputs": [
    {
     "name": "stderr",
     "output_type": "stream",
     "text": [
      "/home/j/.cache/pypoetry/virtualenvs/regps-OZEkVZSd-py3.10/lib/python3.10/site-packages/nbdev/export.py:52: UserWarning: Could not find `#|default_exp` cell. Note nbdev2 no longer supports nbdev1 syntax. Run `nbdev_migrate` to upgrade.\n",
      "See https://nbdev.fast.ai/getting_started.html for more information.\n",
      "  warn(\"Could not find `#|default_exp` cell. Note nbdev2 no longer supports nbdev1 syntax. Run `nbdev_migrate` to upgrade.\\n\"\n"
     ]
    }
   ],
   "source": [
    "from nbdev.doclinks import nbdev_export\n",
    "nbdev_export()"
   ]
  }
 ],
 "metadata": {
  "kernelspec": {
   "display_name": "Python 3 (ipykernel)",
   "language": "python",
   "name": "python3"
  }
 },
 "nbformat": 4,
 "nbformat_minor": 4
}
