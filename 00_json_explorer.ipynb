{
 "cells": [
  {
   "cell_type": "code",
   "execution_count": null,
   "metadata": {},
   "outputs": [],
   "source": [
    "#| default_exp json_explorer"
   ]
  },
  {
   "cell_type": "markdown",
   "metadata": {},
   "source": [
    "# json_explorer\n",
    "\n",
    "> playing around with the google takeout json."
   ]
  },
  {
   "cell_type": "code",
   "execution_count": null,
   "metadata": {},
   "outputs": [],
   "source": [
    "#| hide\n",
    "from nbdev.showdoc import *"
   ]
  },
  {
   "cell_type": "markdown",
   "metadata": {},
   "source": [
    "Imports"
   ]
  },
  {
   "cell_type": "code",
   "execution_count": null,
   "metadata": {},
   "outputs": [],
   "source": [
    "#| export\n",
    "from datetime import datetime\n",
    "from collections import namedtuple\n",
    "import json"
   ]
  },
  {
   "cell_type": "code",
   "execution_count": null,
   "metadata": {},
   "outputs": [],
   "source": [
    "#| export\n",
    "\n",
    "# make a datastructure to hold location data\n",
    "Location = namedtuple(\"Location\", [\"timestamp\", \"latitude\", \"longitude\", \"accuracy\"])"
   ]
  },
  {
   "cell_type": "markdown",
   "metadata": {},
   "source": [
    "This is kinda neat that I can fire markdown in here. \n",
    "BTW #| export is magic to mean export it into the source file when we run `nbdev_export`"
   ]
  },
  {
   "cell_type": "code",
   "execution_count": null,
   "metadata": {},
   "outputs": [],
   "source": [
    "#| export\n",
    "\n",
    "def get_timestamp(timestamp):\n",
    "    \"\"\"\n",
    "    Google stores the timestamp in different formats, making this annoying\n",
    "    \"\"\"\n",
    "    try:\n",
    "        first_format = \"%Y-%m-%dT%H:%M:%S.%fZ\"\n",
    "        timestamp=datetime.strptime(timestamp, first_format)\n",
    "    except:\n",
    "        second_format = \"%Y-%m-%dT%H:%M:%SZ\"\n",
    "        timestamp=datetime.strptime(timestamp, second_format)\n",
    "    return int(timestamp.timestamp())"
   ]
  },
  {
   "cell_type": "code",
   "execution_count": null,
   "metadata": {},
   "outputs": [
    {
     "data": {
      "text/markdown": [
       "---\n",
       "\n",
       "#### get_timestamp\n",
       "\n",
       ">      get_timestamp (timestamp)\n",
       "\n",
       "Google stores the timestamp in different formats, making this annoying"
      ],
      "text/plain": [
       "<nbdev.showdoc.BasicMarkdownRenderer at 0x7f321c280d90>"
      ]
     },
     "execution_count": null,
     "metadata": {},
     "output_type": "execute_result"
    }
   ],
   "source": [
    "show_doc(get_timestamp)"
   ]
  },
  {
   "cell_type": "code",
   "execution_count": null,
   "metadata": {},
   "outputs": [
    {
     "data": {
      "text/plain": [
       "1656110335"
      ]
     },
     "execution_count": null,
     "metadata": {},
     "output_type": "execute_result"
    }
   ],
   "source": [
    "# test data\n",
    "test_string = \"2022-06-24T19:38:55.633Z\"\n",
    "get_timestamp(test_string)"
   ]
  },
  {
   "cell_type": "code",
   "execution_count": null,
   "metadata": {},
   "outputs": [
    {
     "data": {
      "text/plain": [
       "1656110335"
      ]
     },
     "execution_count": null,
     "metadata": {},
     "output_type": "execute_result"
    }
   ],
   "source": [
    "test_string2 = \"2022-06-24T19:38:55Z\"\n",
    "get_timestamp(test_string2)"
   ]
  },
  {
   "cell_type": "code",
   "execution_count": null,
   "metadata": {},
   "outputs": [
    {
     "data": {
      "text/markdown": [
       "---\n",
       "\n",
       "#### get_timestamp\n",
       "\n",
       ">      get_timestamp (timestamp)\n",
       "\n",
       "Google stores the timestamp in different formats, making this annoying"
      ],
      "text/plain": [
       "<nbdev.showdoc.BasicMarkdownRenderer at 0x7f321c280190>"
      ]
     },
     "execution_count": null,
     "metadata": {},
     "output_type": "execute_result"
    }
   ],
   "source": [
    "show_doc(get_timestamp)"
   ]
  },
  {
   "cell_type": "code",
   "execution_count": null,
   "metadata": {},
   "outputs": [],
   "source": [
    "file_to_open = \"sample-data/Records.json\""
   ]
  },
  {
   "cell_type": "code",
   "execution_count": null,
   "metadata": {},
   "outputs": [],
   "source": [
    "#| export\n",
    "\n",
    "def get_locations(file_to_open): \n",
    "    with open(file_to_open, 'r') as f:\n",
    "        json_file = json.load(f)\n",
    "        return [l for l in json_file[\"locations\"]]    "
   ]
  },
  {
   "cell_type": "code",
   "execution_count": null,
   "metadata": {},
   "outputs": [],
   "source": [
    "locations = get_locations(file_to_open)"
   ]
  },
  {
   "cell_type": "code",
   "execution_count": null,
   "metadata": {},
   "outputs": [
    {
     "data": {
      "text/plain": [
       "672293"
      ]
     },
     "execution_count": null,
     "metadata": {},
     "output_type": "execute_result"
    }
   ],
   "source": [
    "len(locations)"
   ]
  },
  {
   "cell_type": "code",
   "execution_count": null,
   "metadata": {},
   "outputs": [
    {
     "data": {
      "text/plain": [
       "{'latitudeE7': 446549213,\n",
       " 'longitudeE7': -635836178,\n",
       " 'accuracy': 45,\n",
       " 'source': 'WIFI',\n",
       " 'deviceTag': 586642716,\n",
       " 'timestamp': '2016-06-29T13:13:01.899Z'}"
      ]
     },
     "execution_count": null,
     "metadata": {},
     "output_type": "execute_result"
    }
   ],
   "source": [
    "locations[1]"
   ]
  },
  {
   "cell_type": "code",
   "execution_count": null,
   "metadata": {},
   "outputs": [
    {
     "data": {
      "text/plain": [
       "{'latitudeE7': 446579163,\n",
       " 'longitudeE7': -636416645,\n",
       " 'accuracy': 17,\n",
       " 'altitude': 52,\n",
       " 'verticalAccuracy': 4,\n",
       " 'activity': [{'activity': [{'type': 'UNKNOWN', 'confidence': 41},\n",
       "    {'type': 'IN_VEHICLE', 'confidence': 10},\n",
       "    {'type': 'ON_BICYCLE', 'confidence': 10},\n",
       "    {'type': 'ON_FOOT', 'confidence': 10},\n",
       "    {'type': 'STILL', 'confidence': 10},\n",
       "    {'type': 'WALKING', 'confidence': 10},\n",
       "    {'type': 'RUNNING', 'confidence': 10},\n",
       "    {'type': 'IN_ROAD_VEHICLE', 'confidence': 10},\n",
       "    {'type': 'IN_RAIL_VEHICLE', 'confidence': 10}],\n",
       "   'timestamp': '2022-07-29T21:02:09.958Z'},\n",
       "  {'activity': [{'type': 'ON_FOOT', 'confidence': 92},\n",
       "    {'type': 'WALKING', 'confidence': 92},\n",
       "    {'type': 'IN_VEHICLE', 'confidence': 2},\n",
       "    {'type': 'STILL', 'confidence': 2},\n",
       "    {'type': 'RUNNING', 'confidence': 2},\n",
       "    {'type': 'IN_ROAD_VEHICLE', 'confidence': 2},\n",
       "    {'type': 'ON_BICYCLE', 'confidence': 1},\n",
       "    {'type': 'IN_RAIL_VEHICLE', 'confidence': 1},\n",
       "    {'type': 'UNKNOWN', 'confidence': 0}],\n",
       "   'timestamp': '2022-07-29T21:06:24.966Z'}],\n",
       " 'source': 'WIFI',\n",
       " 'deviceTag': 1416763344,\n",
       " 'platformType': 'ANDROID',\n",
       " 'activeWifiScan': {'accessPoints': [{'mac': '229074580028182',\n",
       "    'strength': -53,\n",
       "    'frequencyMhz': 2462},\n",
       "   {'mac': '229074580028183', 'strength': -56, 'frequencyMhz': 5220},\n",
       "   {'mac': '189371410968206',\n",
       "    'strength': -68,\n",
       "    'isConnected': True,\n",
       "    'frequencyMhz': 2437},\n",
       "   {'mac': '145824591200902', 'strength': -74, 'frequencyMhz': 2437},\n",
       "   {'mac': '145824591200903', 'strength': -76, 'frequencyMhz': 5220},\n",
       "   {'mac': '233121675075047', 'strength': -77, 'frequencyMhz': 2437},\n",
       "   {'mac': '145830536715294', 'strength': -79, 'frequencyMhz': 2462},\n",
       "   {'mac': '62053897213088', 'strength': -80, 'frequencyMhz': 2462},\n",
       "   {'mac': '53566110409592', 'strength': -81, 'frequencyMhz': 2437},\n",
       "   {'mac': '189371410968207', 'strength': -84, 'frequencyMhz': 5220},\n",
       "   {'mac': '272803701169000', 'strength': -85, 'frequencyMhz': 2437},\n",
       "   {'mac': '145830536715295', 'strength': -86, 'frequencyMhz': 5220},\n",
       "   {'mac': '189371410492934', 'strength': -86, 'frequencyMhz': 2412},\n",
       "   {'mac': '62053904233344', 'strength': -88, 'frequencyMhz': 2462},\n",
       "   {'mac': '145824591200901', 'strength': -88, 'frequencyMhz': 5660},\n",
       "   {'mac': '189371410968205', 'strength': -90, 'frequencyMhz': 5660},\n",
       "   {'mac': '233121675075045', 'strength': -90, 'frequencyMhz': 5765},\n",
       "   {'mac': '233121675075051', 'strength': -90, 'frequencyMhz': 5765},\n",
       "   {'mac': '233121675075048', 'strength': -90, 'frequencyMhz': 5765},\n",
       "   {'mac': '49036251546657', 'strength': -91, 'frequencyMhz': 2412},\n",
       "   {'mac': '233121675075043', 'strength': -91, 'frequencyMhz': 5180},\n",
       "   {'mac': '233121675075049', 'strength': -91, 'frequencyMhz': 5180},\n",
       "   {'mac': '233121675075046', 'strength': -91, 'frequencyMhz': 5180}]},\n",
       " 'osLevel': 30,\n",
       " 'serverTimestamp': '2022-07-29T21:08:59.509Z',\n",
       " 'deviceTimestamp': '2022-07-29T21:08:59.179Z',\n",
       " 'batteryCharging': False,\n",
       " 'formFactor': 'PHONE',\n",
       " 'timestamp': '2022-07-29T21:08:40.020Z'}"
      ]
     },
     "execution_count": null,
     "metadata": {},
     "output_type": "execute_result"
    }
   ],
   "source": [
    "locations[-1]"
   ]
  },
  {
   "cell_type": "code",
   "execution_count": null,
   "metadata": {},
   "outputs": [],
   "source": [
    "#| export\n",
    "\n",
    "# build up the location history\n",
    "# due to the malformed google data, not all entries have latitudeE7/longitudeE7\n",
    "# and the differing timestamps, best effort to parse those.\n",
    "\n",
    "def build_location_history(locations):\n",
    "    location_history = [Location(get_timestamp(l[\"timestamp\"]), l[\"latitudeE7\"], l[\"longitudeE7\"], l[\"accuracy\"]) for l in locations if l.get(\"latitudeE7\")]\n",
    "    # sort by timestamp\n",
    "    location_history.sort(key=lambda location: location.timestamp)\n",
    "    return location_history"
   ]
  },
  {
   "cell_type": "markdown",
   "metadata": {},
   "source": [
    "more validation of output"
   ]
  },
  {
   "cell_type": "code",
   "execution_count": null,
   "metadata": {},
   "outputs": [],
   "source": [
    "location_history = build_location_history(locations)\n",
    "assert len(location_history) == 672291"
   ]
  },
  {
   "cell_type": "code",
   "execution_count": null,
   "metadata": {},
   "outputs": [
    {
     "data": {
      "text/plain": [
       "Location(timestamp=1467216494, latitude=446549411, longitude=-635836042, accuracy=41)"
      ]
     },
     "execution_count": null,
     "metadata": {},
     "output_type": "execute_result"
    }
   ],
   "source": [
    "location_history[0]"
   ]
  },
  {
   "cell_type": "code",
   "execution_count": null,
   "metadata": {},
   "outputs": [
    {
     "data": {
      "text/plain": [
       "Location(timestamp=1659139720, latitude=446579163, longitude=-636416645, accuracy=17)"
      ]
     },
     "execution_count": null,
     "metadata": {},
     "output_type": "execute_result"
    }
   ],
   "source": [
    "location_history[-1]"
   ]
  },
  {
   "cell_type": "code",
   "execution_count": null,
   "metadata": {},
   "outputs": [
    {
     "data": {
      "text/plain": [
       "Location(timestamp=1659139720, latitude=446579163, longitude=-636416645, accuracy=17)"
      ]
     },
     "execution_count": null,
     "metadata": {},
     "output_type": "execute_result"
    }
   ],
   "source": [
    "location_history[-1]"
   ]
  },
  {
   "cell_type": "code",
   "execution_count": null,
   "metadata": {},
   "outputs": [],
   "source": [
    "from nbdev.doclinks import nbdev_export\n",
    "nbdev_export()"
   ]
  },
  {
   "cell_type": "code",
   "execution_count": null,
   "metadata": {},
   "outputs": [],
   "source": []
  }
 ],
 "metadata": {
  "kernelspec": {
   "display_name": "Python 3 (ipykernel)",
   "language": "python",
   "name": "python3"
  }
 },
 "nbformat": 4,
 "nbformat_minor": 4
}
