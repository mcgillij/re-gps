{
 "cells": [
  {
   "cell_type": "code",
   "execution_count": null,
   "id": "89247f60",
   "metadata": {},
   "outputs": [],
   "source": [
    "#| default_exp date_compare"
   ]
  },
  {
   "cell_type": "markdown",
   "id": "e90279a5",
   "metadata": {},
   "source": [
    "# date_compare\n",
    "> attempt to find corresponding dates from location history and image exif data"
   ]
  },
  {
   "cell_type": "code",
   "execution_count": null,
   "id": "5fa9f081",
   "metadata": {},
   "outputs": [],
   "source": [
    "#| hide\n",
    "from nbdev.showdoc import *"
   ]
  },
  {
   "cell_type": "code",
   "execution_count": null,
   "id": "97993b1c",
   "metadata": {},
   "outputs": [],
   "source": [
    "#| export\n",
    "from regps.json_explorer import *\n",
    "from regps.exif_explorer import *"
   ]
  },
  {
   "cell_type": "markdown",
   "id": "4b0760f1",
   "metadata": {},
   "source": [
    "Use exif explorer to build up a list of image metadata"
   ]
  },
  {
   "cell_type": "code",
   "execution_count": null,
   "id": "051a10c7",
   "metadata": {},
   "outputs": [
    {
     "data": {
      "text/plain": [
       "101"
      ]
     },
     "execution_count": null,
     "metadata": {},
     "output_type": "execute_result"
    }
   ],
   "source": [
    "import glob\n",
    "path = 'sample-data/vegas/*.jpg'\n",
    "images = glob.glob(path)\n",
    "len(images)"
   ]
  },
  {
   "cell_type": "code",
   "execution_count": null,
   "id": "3b2c81e0",
   "metadata": {},
   "outputs": [],
   "source": [
    "image_list = extract_exif(images)\n",
    "\n",
    "assert len(image_list) == 98"
   ]
  },
  {
   "cell_type": "code",
   "execution_count": null,
   "id": "9c669e05",
   "metadata": {},
   "outputs": [
    {
     "data": {
      "text/plain": [
       "'2018:11:26 19:45:41'"
      ]
     },
     "execution_count": null,
     "metadata": {},
     "output_type": "execute_result"
    }
   ],
   "source": [
    "image_list[0].exif.get(\"datetime_original\")\n",
    "# note that some of these can be None, since some images are created by google photos"
   ]
  },
  {
   "cell_type": "markdown",
   "id": "4cd3ccf2",
   "metadata": {},
   "source": [
    "Now we need to convert the to a timestamp the dates from exif"
   ]
  },
  {
   "cell_type": "code",
   "execution_count": null,
   "id": "a52897b9",
   "metadata": {},
   "outputs": [],
   "source": [
    "#| export\n",
    "from datetime import datetime\n",
    "def to_timestamp(date):\n",
    "    date_format = \"%Y:%m:%d %H:%M:%S\"\n",
    "    timestamp = datetime.strptime(date, date_format)\n",
    "    return int(timestamp.timestamp())"
   ]
  },
  {
   "cell_type": "code",
   "execution_count": null,
   "id": "d1adf1f2",
   "metadata": {},
   "outputs": [
    {
     "data": {
      "text/plain": [
       "1543275941"
      ]
     },
     "execution_count": null,
     "metadata": {},
     "output_type": "execute_result"
    }
   ],
   "source": [
    "# testing to make sure we get the right value back\n",
    "timestamp = to_timestamp(image_list[0].exif.get(\"datetime_original\"))\n",
    "timestamp"
   ]
  },
  {
   "cell_type": "code",
   "execution_count": null,
   "id": "0fc772a9",
   "metadata": {},
   "outputs": [
    {
     "data": {
      "text/plain": [
       "1543504923"
      ]
     },
     "execution_count": null,
     "metadata": {},
     "output_type": "execute_result"
    }
   ],
   "source": [
    "timestamp2 = to_timestamp(image_list[-1].exif.get(\"datetime_original\"))\n",
    "timestamp2"
   ]
  },
  {
   "cell_type": "code",
   "execution_count": null,
   "id": "eeee722c",
   "metadata": {},
   "outputs": [],
   "source": [
    "#| export\n",
    "\n",
    "def delta_to_minutes(delta):\n",
    "    return int(delta.total_seconds() // 60)\n",
    "\n",
    "def get_time_delta(a, b):\n",
    "    a = datetime.fromtimestamp(a)\n",
    "    b = datetime.fromtimestamp(b)\n",
    "    if a > b:\n",
    "        return delta_to_minutes(a - b)\n",
    "    return delta_to_minutes(b - a)"
   ]
  },
  {
   "cell_type": "code",
   "execution_count": null,
   "id": "01b2dac1",
   "metadata": {},
   "outputs": [
    {
     "name": "stdout",
     "output_type": "stream",
     "text": [
      "3816\n"
     ]
    }
   ],
   "source": [
    "results = get_time_delta(timestamp2, timestamp)\n",
    "print(results)"
   ]
  },
  {
   "cell_type": "code",
   "execution_count": null,
   "id": "adf4bdea",
   "metadata": {},
   "outputs": [],
   "source": [
    "# quick test\n",
    "assert(get_time_delta(timestamp2, timestamp)) == 3816"
   ]
  },
  {
   "cell_type": "markdown",
   "id": "e6588c0f",
   "metadata": {},
   "source": [
    "Now lets pull some information from location history to compare"
   ]
  },
  {
   "cell_type": "code",
   "execution_count": null,
   "id": "d7af7a21",
   "metadata": {},
   "outputs": [],
   "source": [
    "file_to_open = \"sample-data/Records.json\"\n",
    "\n",
    "locations = get_locations(file_to_open)\n",
    "assert len(locations) == 672293"
   ]
  },
  {
   "cell_type": "code",
   "execution_count": null,
   "id": "eef3c352",
   "metadata": {},
   "outputs": [],
   "source": [
    "locations_w_gps = build_location_history(locations)\n",
    "assert len(locations_w_gps) == 672291"
   ]
  },
  {
   "cell_type": "code",
   "execution_count": null,
   "id": "95e622b5",
   "metadata": {},
   "outputs": [
    {
     "data": {
      "text/plain": [
       "Location(timestamp=1467216494, latitude=446549411, longitude=-635836042, accuracy=41)"
      ]
     },
     "execution_count": null,
     "metadata": {},
     "output_type": "execute_result"
    }
   ],
   "source": [
    "locations_w_gps[0]"
   ]
  },
  {
   "cell_type": "markdown",
   "id": "3352be77",
   "metadata": {},
   "source": [
    "Now lets come up with a bruteforce solution to finding the aligning dates from both datasets"
   ]
  },
  {
   "cell_type": "code",
   "execution_count": null,
   "id": "fb3ad591",
   "metadata": {},
   "outputs": [],
   "source": [
    "#| export\n",
    "from collections import defaultdict\n",
    "\n",
    "# This implementation takes 25mins~ to process 100 images X 300mbs of json\n",
    "# bruteforce implementation, this can be optimized later since it's operating on sorted lists\n",
    "def get_smallest_deltas2(image_list, locations):\n",
    "    d = {}\n",
    "    for image_index, image in enumerate(image_list):\n",
    "        current_delta = 99999999999\n",
    "        for location_index, location in enumerate(locations_w_gps):\n",
    "            # find the delta and store the smallest values index\n",
    "            delta = get_time_delta(\n",
    "                to_timestamp(image.exif.get(\"datetime_original\")),\n",
    "                location.timestamp\n",
    "            )\n",
    "            \n",
    "            if delta < current_delta:\n",
    "                current_delta = delta\n",
    "                d[image_index] = location_index\n",
    "    return d\n",
    "\n",
    "# this implementation takes under a second\n",
    "from bisect import bisect\n",
    "def get_smallest_deltas(image_list, locations):\n",
    "    d = {}\n",
    "    location_timestamps = [location.timestamp for location in locations]\n",
    "    for image_index, image in enumerate(image_list):\n",
    "        image_timestamp = to_timestamp(image.exif.get(\"datetime_original\"))\n",
    "        index = bisect(location_timestamps, image_timestamp)\n",
    "        delta1 = get_time_delta(image_timestamp, locations[index].timestamp)\n",
    "        delta2 = get_time_delta(image_timestamp, locations[index+1].timestamp)\n",
    "        if delta1 > delta2:\n",
    "            index = index + 1\n",
    "        d[image_index] = index\n",
    "    return d\n",
    "    "
   ]
  },
  {
   "cell_type": "code",
   "execution_count": null,
   "id": "89205622",
   "metadata": {},
   "outputs": [
    {
     "data": {
      "text/plain": [
       "{0: 434262,\n",
       " 1: 434771,\n",
       " 2: 434781,\n",
       " 3: 434745,\n",
       " 4: 434772,\n",
       " 5: 434771,\n",
       " 6: 434781,\n",
       " 7: 434745,\n",
       " 8: 434222,\n",
       " 9: 434781,\n",
       " 10: 434779,\n",
       " 11: 434229,\n",
       " 12: 434744,\n",
       " 13: 434779,\n",
       " 14: 434799,\n",
       " 15: 434779,\n",
       " 16: 434781,\n",
       " 17: 434772,\n",
       " 18: 434742,\n",
       " 19: 434779,\n",
       " 20: 434286,\n",
       " 21: 434779,\n",
       " 22: 434772,\n",
       " 23: 434232,\n",
       " 24: 434778,\n",
       " 25: 434753,\n",
       " 26: 434781,\n",
       " 27: 434745,\n",
       " 28: 434771,\n",
       " 29: 434781,\n",
       " 30: 434206,\n",
       " 31: 434221,\n",
       " 32: 434799,\n",
       " 33: 434222,\n",
       " 34: 434799,\n",
       " 35: 434232,\n",
       " 36: 434446,\n",
       " 37: 434222,\n",
       " 38: 434771,\n",
       " 39: 434745,\n",
       " 40: 434261,\n",
       " 41: 434781,\n",
       " 42: 434779,\n",
       " 43: 434222,\n",
       " 44: 434219,\n",
       " 45: 434237,\n",
       " 46: 434232,\n",
       " 47: 434781,\n",
       " 48: 434781,\n",
       " 49: 434799,\n",
       " 50: 434778,\n",
       " 51: 434262,\n",
       " 52: 434745,\n",
       " 53: 434222,\n",
       " 54: 434779,\n",
       " 55: 434232,\n",
       " 56: 434222,\n",
       " 57: 434745,\n",
       " 58: 434781,\n",
       " 59: 434224,\n",
       " 60: 434222,\n",
       " 61: 434771,\n",
       " 62: 434222,\n",
       " 63: 434781,\n",
       " 64: 434799,\n",
       " 65: 434442,\n",
       " 66: 434771,\n",
       " 67: 434447,\n",
       " 68: 434219,\n",
       " 69: 434222,\n",
       " 70: 434772,\n",
       " 71: 434745,\n",
       " 72: 434799,\n",
       " 73: 434222,\n",
       " 74: 434222,\n",
       " 75: 434771,\n",
       " 76: 434779,\n",
       " 77: 434222,\n",
       " 78: 434745,\n",
       " 79: 434286,\n",
       " 80: 434234,\n",
       " 81: 434779,\n",
       " 82: 434779,\n",
       " 83: 434781,\n",
       " 84: 434219,\n",
       " 85: 434219,\n",
       " 86: 434227,\n",
       " 87: 434206,\n",
       " 88: 434744,\n",
       " 89: 434286,\n",
       " 90: 434771,\n",
       " 91: 434772,\n",
       " 92: 434745,\n",
       " 93: 434206,\n",
       " 94: 434222,\n",
       " 95: 434759,\n",
       " 96: 434772,\n",
       " 97: 434739}"
      ]
     },
     "execution_count": null,
     "metadata": {},
     "output_type": "execute_result"
    }
   ],
   "source": [
    "d = get_smallest_deltas(image_list, locations_w_gps)  \n",
    "d"
   ]
  },
  {
   "cell_type": "markdown",
   "id": "7eb63b5d",
   "metadata": {},
   "source": [
    "Now we can take a peek at how close the date ranges between the image timestamps and location history timestamps are."
   ]
  },
  {
   "cell_type": "code",
   "execution_count": null,
   "id": "e436b5ee",
   "metadata": {},
   "outputs": [],
   "source": [
    "#| export\n",
    "# de-google lat/long\n",
    "\n",
    "def convert_to_decimal(lat, long):\n",
    "    # 1e7 is the value to divide by to convert from latitudeE7/longitudeE7 fields\n",
    "    return lat/1e7, long/1e7\n",
    "\n",
    "# new data structure to hold images w gps metadata\n",
    "from collections import namedtuple\n",
    "ImageGPS = namedtuple(\"ImageGPS\", [\"image_path\", \"gps\"])\n",
    "\n",
    "def de_google_gps_info(d):\n",
    "    imgs_w_data = []\n",
    "    for image_index, location_index in d.items():\n",
    "        image_time = to_timestamp(image_list[image_index].exif.get(\"datetime_original\"))\n",
    "        location_time = locations_w_gps[location_index].timestamp\n",
    "        delta = get_time_delta(image_time, location_time)\n",
    "        lat, long = convert_to_decimal(locations_w_gps[location_index].latitude, locations_w_gps[location_index].longitude)\n",
    "        imgs_w_data.append(ImageGPS(image_list[image_index].image_path, (lat, long)))\n",
    "    return imgs_w_data"
   ]
  },
  {
   "cell_type": "code",
   "execution_count": null,
   "id": "397943a0",
   "metadata": {},
   "outputs": [
    {
     "data": {
      "text/plain": [
       "ImageGPS(image_path='sample-data/vegas/MVIMG_20181126_194541.jpg', gps=(36.1230049, -115.1653861))"
      ]
     },
     "execution_count": null,
     "metadata": {},
     "output_type": "execute_result"
    }
   ],
   "source": [
    "imgs_w_data = de_google_gps_info(d)\n",
    "imgs_w_data[0]"
   ]
  },
  {
   "cell_type": "markdown",
   "id": "51c90873",
   "metadata": {},
   "source": [
    "From here we can start associating the GPS data from the location history to the images that Google Photo's has stripped."
   ]
  },
  {
   "cell_type": "code",
   "execution_count": null,
   "id": "1e5804c0",
   "metadata": {},
   "outputs": [],
   "source": [
    "#| export\n",
    "\n",
    "from GPSPhoto import gpsphoto\n",
    "\n",
    "def write_gps_info_to_images():\n",
    "    info = gpsphoto.GPSInfo((36.1230049, -115.1653861))\n",
    "    photo = gpsphoto.GPSPhoto(images_and_data[0].image_path)\n",
    "    photo.modGPSData(info, 'output/newFile.jpg')\n"
   ]
  },
  {
   "cell_type": "code",
   "execution_count": null,
   "id": "15a720c7",
   "metadata": {},
   "outputs": [],
   "source": [
    "# no longer needed\n",
    "\n",
    "def decdeg_to_dms(coord):\n",
    "    negative = coord < 0\n",
    "    coord = abs(coord)\n",
    "    minutes,seconds = divmod(coord * 3600, 60)\n",
    "    degrees,minutes = divmod(minutes, 60)\n",
    "    if negative:\n",
    "        if degrees > 0:\n",
    "            degrees = -degrees\n",
    "        elif minutes > 0:\n",
    "            minutes = -minutes\n",
    "        else:\n",
    "            seconds = -seconds\n",
    "    return (degrees, minutes, seconds)"
   ]
  },
  {
   "cell_type": "code",
   "execution_count": null,
   "id": "e9d3a0e3",
   "metadata": {},
   "outputs": [
    {
     "data": {
      "text/plain": [
       "(36.0, 7.0, 22.817639999993844)"
      ]
     },
     "execution_count": null,
     "metadata": {},
     "output_type": "execute_result"
    }
   ],
   "source": [
    "value = decdeg_to_dms(imgs_w_data[0].gps[0])\n",
    "value"
   ]
  },
  {
   "cell_type": "code",
   "execution_count": null,
   "id": "b4792cef",
   "metadata": {},
   "outputs": [
    {
     "data": {
      "text/plain": [
       "(-115.0, 9.0, 55.38996000000043)"
      ]
     },
     "execution_count": null,
     "metadata": {},
     "output_type": "execute_result"
    }
   ],
   "source": [
    "value = decdeg_to_dms(imgs_w_data[0].gps[1])\n",
    "value"
   ]
  },
  {
   "cell_type": "markdown",
   "id": "8b3dc099",
   "metadata": {},
   "source": [
    "# apple exif fields\n",
    "\n",
    "```\n",
    "exif:GPSAltitude=94940/11161\n",
    "exif:GPSAltitudeRef=.\n",
    "exif:GPSDestBearing=227653/2182\n",
    "exif:GPSDestBearingRef=T\n",
    "exif:GPSHPositioningError=33479/4096\n",
    "exif:GPSImgDirection=227653/2182\n",
    "exif:GPSImgDirectionRef=T\n",
    "exif:GPSInfo=2272\n",
    "exif:GPSLatitude=45/1, 30/1, 5110/100\n",
    "exif:GPSLatitudeRef=N\n",
    "exif:GPSLongitude=73/1, 31/1, 3981/100\n",
    "exif:GPSLongitudeRef=W\n",
    "exif:GPSSpeed=4744/18627\n",
    "exif:GPSSpeedRef=K\n",
    "```"
   ]
  },
  {
   "cell_type": "code",
   "execution_count": null,
   "id": "de6904dc",
   "metadata": {},
   "outputs": [],
   "source": [
    "from nbdev.doclinks import nbdev_export\n",
    "nbdev_export()"
   ]
  }
 ],
 "metadata": {
  "kernelspec": {
   "display_name": "Python 3 (ipykernel)",
   "language": "python",
   "name": "python3"
  }
 },
 "nbformat": 4,
 "nbformat_minor": 5
}
