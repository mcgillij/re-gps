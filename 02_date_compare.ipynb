{
 "cells": [
  {
   "cell_type": "code",
   "execution_count": null,
   "id": "89247f60",
   "metadata": {},
   "outputs": [],
   "source": [
    "#| default_exp date_compare"
   ]
  },
  {
   "cell_type": "markdown",
   "id": "e90279a5",
   "metadata": {},
   "source": [
    "# date_compare\n",
    "> find corresponding dates from location history and image exif data"
   ]
  },
  {
   "cell_type": "code",
   "execution_count": null,
   "id": "5fa9f081",
   "metadata": {},
   "outputs": [],
   "source": [
    "#| hide\n",
    "from nbdev.showdoc import *"
   ]
  },
  {
   "cell_type": "code",
   "execution_count": null,
   "id": "97993b1c",
   "metadata": {},
   "outputs": [],
   "source": [
    "#| export\n",
    "from bisect import bisect\n",
    "from collections import namedtuple\n",
    "import pathlib\n",
    "\n",
    "from regps.json_explorer import *\n",
    "from regps.exif_explorer import *\n",
    "from GPSPhoto import gpsphoto"
   ]
  },
  {
   "cell_type": "markdown",
   "id": "4b0760f1",
   "metadata": {},
   "source": [
    "Use exif explorer to build up a list of image metadata"
   ]
  },
  {
   "cell_type": "code",
   "execution_count": null,
   "id": "051a10c7",
   "metadata": {},
   "outputs": [
    {
     "data": {
      "text/plain": [
       "2"
      ]
     },
     "execution_count": null,
     "metadata": {},
     "output_type": "execute_result"
    }
   ],
   "source": [
    "import glob\n",
    "path = 'sample-data/*.jpg'\n",
    "images = glob.glob(path)\n",
    "len(images)"
   ]
  },
  {
   "cell_type": "code",
   "execution_count": null,
   "id": "3b2c81e0",
   "metadata": {},
   "outputs": [],
   "source": [
    "image_list = extract_exif(images)\n",
    "assert len(image_list) == 2"
   ]
  },
  {
   "cell_type": "code",
   "execution_count": null,
   "id": "9c669e05",
   "metadata": {},
   "outputs": [
    {
     "data": {
      "text/plain": [
       "'2018:11:30 07:57:21'"
      ]
     },
     "execution_count": null,
     "metadata": {},
     "output_type": "execute_result"
    }
   ],
   "source": [
    "image_list[0].exif.get(\"datetime_original\")\n",
    "# note that some of these can be None, since some images are created by google photos"
   ]
  },
  {
   "cell_type": "markdown",
   "id": "4cd3ccf2",
   "metadata": {},
   "source": [
    "Now we need to convert the to a timestamp the dates from exif"
   ]
  },
  {
   "cell_type": "code",
   "execution_count": null,
   "id": "a52897b9",
   "metadata": {},
   "outputs": [],
   "source": [
    "#| export\n",
    "from datetime import datetime\n",
    "def to_timestamp(date):\n",
    "    date_format = \"%Y:%m:%d %H:%M:%S\"\n",
    "    timestamp = datetime.strptime(date, date_format)\n",
    "    return int(timestamp.timestamp())"
   ]
  },
  {
   "cell_type": "code",
   "execution_count": null,
   "id": "d1adf1f2",
   "metadata": {},
   "outputs": [
    {
     "data": {
      "text/plain": [
       "1543579041"
      ]
     },
     "execution_count": null,
     "metadata": {},
     "output_type": "execute_result"
    }
   ],
   "source": [
    "# testing to make sure we get the right value back\n",
    "timestamp = to_timestamp(image_list[0].exif.get(\"datetime_original\"))\n",
    "timestamp"
   ]
  },
  {
   "cell_type": "code",
   "execution_count": null,
   "id": "0fc772a9",
   "metadata": {},
   "outputs": [
    {
     "data": {
      "text/plain": [
       "1543547561"
      ]
     },
     "execution_count": null,
     "metadata": {},
     "output_type": "execute_result"
    }
   ],
   "source": [
    "timestamp2 = to_timestamp(image_list[-1].exif.get(\"datetime_original\"))\n",
    "timestamp2"
   ]
  },
  {
   "cell_type": "code",
   "execution_count": null,
   "id": "eeee722c",
   "metadata": {},
   "outputs": [],
   "source": [
    "#| export\n",
    "\n",
    "def delta_to_minutes(delta):\n",
    "    return int(delta.total_seconds() // 60)\n",
    "\n",
    "def get_time_delta(a, b):\n",
    "    a = datetime.fromtimestamp(a)\n",
    "    b = datetime.fromtimestamp(b)\n",
    "    if a > b:\n",
    "        return delta_to_minutes(a - b)\n",
    "    return delta_to_minutes(b - a)"
   ]
  },
  {
   "cell_type": "code",
   "execution_count": null,
   "id": "01b2dac1",
   "metadata": {},
   "outputs": [
    {
     "data": {
      "text/plain": [
       "524"
      ]
     },
     "execution_count": null,
     "metadata": {},
     "output_type": "execute_result"
    }
   ],
   "source": [
    "results = get_time_delta(timestamp2, timestamp)\n",
    "results"
   ]
  },
  {
   "cell_type": "code",
   "execution_count": null,
   "id": "adf4bdea",
   "metadata": {},
   "outputs": [],
   "source": [
    "# quick test\n",
    "assert(get_time_delta(timestamp2, timestamp)) == 524"
   ]
  },
  {
   "cell_type": "markdown",
   "id": "e6588c0f",
   "metadata": {},
   "source": [
    "Now lets pull some information from location history to compare"
   ]
  },
  {
   "cell_type": "code",
   "execution_count": null,
   "id": "d7af7a21",
   "metadata": {},
   "outputs": [],
   "source": [
    "file_to_open = \"sample-data/sample.json\"\n",
    "\n",
    "locations = get_locations(file_to_open)\n",
    "assert len(locations) == 58"
   ]
  },
  {
   "cell_type": "code",
   "execution_count": null,
   "id": "eef3c352",
   "metadata": {},
   "outputs": [],
   "source": [
    "locations_w_gps = build_location_history(locations)\n",
    "assert len(locations_w_gps) == 58"
   ]
  },
  {
   "cell_type": "code",
   "execution_count": null,
   "id": "95e622b5",
   "metadata": {},
   "outputs": [
    {
     "data": {
      "text/plain": [
       "Location(timestamp=1467216494, latitude=446549411, longitude=-635836042, accuracy=41, altitude=0)"
      ]
     },
     "execution_count": null,
     "metadata": {},
     "output_type": "execute_result"
    }
   ],
   "source": [
    "locations_w_gps[0]"
   ]
  },
  {
   "cell_type": "markdown",
   "id": "3352be77",
   "metadata": {},
   "source": [
    "Now lets come up with a bruteforce solution to finding the aligning dates from both datasets"
   ]
  },
  {
   "cell_type": "code",
   "execution_count": null,
   "id": "fb3ad591",
   "metadata": {},
   "outputs": [],
   "source": [
    "#| export\n",
    "\n",
    "# optimized solution\n",
    "def get_smallest_deltas(image_list, locations):\n",
    "    d = {}\n",
    "    location_timestamps = [l.timestamp for l in locations]\n",
    "    for image_index, image in enumerate(image_list):\n",
    "        image_timestamp = to_timestamp(image.exif.get(\"datetime_original\"))\n",
    "        \n",
    "        index = bisect(location_timestamps, image_timestamp)\n",
    "        if index == len(location_timestamps):\n",
    "            index = index -1\n",
    "        delta = get_time_delta(image_timestamp, locations[index].timestamp) \n",
    "        d[image_index] = index\n",
    "    return d\n",
    "    "
   ]
  },
  {
   "cell_type": "code",
   "execution_count": null,
   "id": "89205622",
   "metadata": {},
   "outputs": [
    {
     "data": {
      "text/plain": [
       "{0: 57, 1: 57}"
      ]
     },
     "execution_count": null,
     "metadata": {},
     "output_type": "execute_result"
    }
   ],
   "source": [
    "d = get_smallest_deltas(image_list, locations_w_gps)  \n",
    "d"
   ]
  },
  {
   "cell_type": "markdown",
   "id": "7eb63b5d",
   "metadata": {},
   "source": [
    "Now we can take a peek at how close the date ranges between the image timestamps and location history timestamps are."
   ]
  },
  {
   "cell_type": "code",
   "execution_count": null,
   "id": "e436b5ee",
   "metadata": {},
   "outputs": [],
   "source": [
    "#| export\n",
    "# de-google lat/long\n",
    "\n",
    "# new data structure to hold images w gps metadata\n",
    "ImageGPS = namedtuple(\"ImageGPS\", [\"image_path\", \"gps\", \"alt\"])\n",
    "\n",
    "def convert_to_decimal(lat, long):\n",
    "    # 1e7 is the value to divide by to convert from latitudeE7/longitudeE7 fields\n",
    "    return lat/1e7, long/1e7\n",
    "\n",
    "\n",
    "def de_google_gps_info(d, image_list, locations):\n",
    "    imgs_w_data = []\n",
    "    for image_index, location_index in d.items():\n",
    "        image_time = to_timestamp(image_list[image_index].exif.get(\"datetime_original\"))\n",
    "        location_time = locations[location_index].timestamp\n",
    "        delta = get_time_delta(image_time, location_time)\n",
    "        lat, long = convert_to_decimal(locations[location_index].latitude, locations[location_index].longitude)\n",
    "        alt = locations[location_index].altitude\n",
    "        imgs_w_data.append(ImageGPS(image_list[image_index].image_path, (lat, long), alt))\n",
    "    return imgs_w_data"
   ]
  },
  {
   "cell_type": "code",
   "execution_count": null,
   "id": "397943a0",
   "metadata": {},
   "outputs": [
    {
     "data": {
      "text/plain": [
       "ImageGPS(image_path='sample-data/sample.jpg', gps=(44.6551683, -63.5835479), alt=0)"
      ]
     },
     "execution_count": null,
     "metadata": {},
     "output_type": "execute_result"
    }
   ],
   "source": [
    "imgs_w_data = de_google_gps_info(d, image_list, locations_w_gps)\n",
    "imgs_w_data[0]"
   ]
  },
  {
   "cell_type": "markdown",
   "id": "51c90873",
   "metadata": {},
   "source": [
    "From here we can start associating the GPS data from the location history to the images that Google Photo's has stripped."
   ]
  },
  {
   "cell_type": "code",
   "execution_count": null,
   "id": "1e5804c0",
   "metadata": {},
   "outputs": [],
   "source": [
    "#| export\n",
    "\n",
    "def write_gps_info_to_images(image_list, output_path):\n",
    "    for image in image_list:\n",
    "        info = gpsphoto.GPSInfo(image.gps, alt=image.alt)\n",
    "        photo = gpsphoto.GPSPhoto(image.image_path)\n",
    "        filename = pathlib.Path(image.image_path).name\n",
    "        photo.modGPSData(info, f'{output_path}/{filename}')"
   ]
  },
  {
   "cell_type": "code",
   "execution_count": null,
   "id": "9c98df98",
   "metadata": {},
   "outputs": [],
   "source": [
    "# finally write out new files with GPS data merged in exif\n",
    "output_path = '/tmp'\n",
    "write_gps_info_to_images(imgs_w_data, output_path)"
   ]
  },
  {
   "cell_type": "markdown",
   "id": "8b3dc099",
   "metadata": {},
   "source": [
    "# EXIF GPS fields for reference\n",
    "\n",
    "```\n",
    "exif:GPSAltitude=94940/11161\n",
    "exif:GPSAltitudeRef=.\n",
    "exif:GPSDestBearing=227653/2182\n",
    "exif:GPSDestBearingRef=T\n",
    "exif:GPSHPositioningError=33479/4096\n",
    "exif:GPSImgDirection=227653/2182\n",
    "exif:GPSImgDirectionRef=T\n",
    "exif:GPSInfo=2272\n",
    "exif:GPSLatitude=45/1, 30/1, 5110/100\n",
    "exif:GPSLatitudeRef=N\n",
    "exif:GPSLongitude=73/1, 31/1, 3981/100\n",
    "exif:GPSLongitudeRef=W\n",
    "exif:GPSSpeed=4744/18627\n",
    "exif:GPSSpeedRef=K\n",
    "```"
   ]
  },
  {
   "cell_type": "code",
   "execution_count": null,
   "id": "de6904dc",
   "metadata": {},
   "outputs": [],
   "source": [
    "#| hide\n",
    "from nbdev.doclinks import nbdev_export\n",
    "nbdev_export()"
   ]
  }
 ],
 "metadata": {
  "kernelspec": {
   "display_name": "Python 3 (ipykernel)",
   "language": "python",
   "name": "python3"
  }
 },
 "nbformat": 4,
 "nbformat_minor": 5
}
