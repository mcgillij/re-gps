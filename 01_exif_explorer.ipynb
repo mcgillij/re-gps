{
 "cells": [
  {
   "cell_type": "code",
   "execution_count": null,
   "id": "2541f36f",
   "metadata": {},
   "outputs": [],
   "source": [
    "#| default_exp exif_explorer"
   ]
  },
  {
   "cell_type": "markdown",
   "id": "5d5fe1e0",
   "metadata": {},
   "source": [
    "# exif_explorer\n",
    "\n",
    "> try parsing some exif data from Google Photo takeout"
   ]
  },
  {
   "cell_type": "code",
   "execution_count": null,
   "id": "e6721f4a",
   "metadata": {},
   "outputs": [],
   "source": [
    "#| hide\n",
    "from nbdev.showdoc import *"
   ]
  },
  {
   "cell_type": "code",
   "execution_count": null,
   "id": "00d7dfe2",
   "metadata": {},
   "outputs": [],
   "source": [
    "#| export\n",
    "from collections import namedtuple\n",
    "from exif import Image"
   ]
  },
  {
   "cell_type": "code",
   "execution_count": null,
   "id": "76165fb4",
   "metadata": {},
   "outputs": [],
   "source": [
    "#| export\n",
    "# datastructure for image and their exif data\n",
    "\n",
    "ImageData = namedtuple(\"ImageData\", [\"image_path\", \"exif\"])"
   ]
  },
  {
   "cell_type": "code",
   "execution_count": null,
   "id": "fd60fa9e",
   "metadata": {},
   "outputs": [],
   "source": [
    "# get a list of all *.jpg's in our sample dir\n",
    "import glob\n",
    "path = 'sample-data/vegas/*.jpg'\n",
    "images = glob.glob(path)"
   ]
  },
  {
   "cell_type": "markdown",
   "id": "51ca8e25",
   "metadata": {},
   "source": [
    "We will want to have a list of images to query the exif data"
   ]
  },
  {
   "cell_type": "code",
   "execution_count": null,
   "id": "cda93441",
   "metadata": {},
   "outputs": [
    {
     "data": {
      "text/plain": [
       "101"
      ]
     },
     "execution_count": null,
     "metadata": {},
     "output_type": "execute_result"
    }
   ],
   "source": [
    "len(images)"
   ]
  },
  {
   "cell_type": "markdown",
   "id": "2002a021",
   "metadata": {},
   "source": [
    "See about reading/writing exif data to images"
   ]
  },
  {
   "cell_type": "code",
   "execution_count": null,
   "id": "42dbf8ea",
   "metadata": {},
   "outputs": [],
   "source": [
    "#| export\n",
    "def open_image(image_path):\n",
    "    with open(image_path, \"rb\") as f:\n",
    "        return Image(f)\n",
    "\n",
    "def extract_exif(images):\n",
    "    # Some images don't have a DateTimeOriginal set, so prune those out.\n",
    "    return [ImageData(i, open_image(i)) for i in images if open_image(i).get('datetime_original')]"
   ]
  },
  {
   "cell_type": "code",
   "execution_count": null,
   "id": "37601a21",
   "metadata": {},
   "outputs": [],
   "source": [
    "images_and_data = extract_exif(images)\n",
    "assert open_image(images_and_data[0].image_path).make == \"Google\"\n",
    "test_image = open_image(images_and_data[0].image_path)"
   ]
  },
  {
   "cell_type": "code",
   "execution_count": null,
   "id": "0d7f6a74",
   "metadata": {},
   "outputs": [],
   "source": [
    "images_and_data = extract_exif(images)\n",
    "assert len(images_and_data) == 98"
   ]
  },
  {
   "cell_type": "code",
   "execution_count": null,
   "id": "75af10f1",
   "metadata": {},
   "outputs": [
    {
     "data": {
      "text/plain": [
       "'2018:11:26 19:45:41'"
      ]
     },
     "execution_count": null,
     "metadata": {},
     "output_type": "execute_result"
    }
   ],
   "source": [
    "images_and_data[0].exif.get('datetime_original')"
   ]
  },
  {
   "cell_type": "code",
   "execution_count": null,
   "id": "7ca9c0cd",
   "metadata": {},
   "outputs": [],
   "source": [
    "# no longer needed\n",
    "\n",
    "# write some test data to an output image\n",
    "\n",
    "from exif import GpsAltitudeRef\n",
    "#print(dir(exif))\n",
    "\n",
    "def write_exif(image_path, gps):\n",
    "    image = Image(image_path)\n",
    "    print(dir(image))\n",
    "    output_path = \"output\"\n",
    "    image.set(\"gps_latitude\", (36.0, 7.0, 22.82))\n",
    "    image.set(\"gps_longitude\", (-115.0, 9.0, 55.39))\n",
    "    image.set(\"gps_latitude_ref\", \"N\")\n",
    "    image.set(\"gps_longitude\", (81.0, 41.0, 39.84))\n",
    "    image.set(\"gps_longitude_ref\", \"W\")\n",
    "    image.set(\"gps_altitude\", 199.034)  # in meters\n",
    "    image.set(\"gps_altitude_ref\", GpsAltitudeRef.ABOVE_SEA_LEVEL)\n",
    "    \n",
    "    #with open(f'{output_path}/modified_image.jpg', 'wb') as new_image_file:\n",
    "    #    new_image_file.write(image.get_file())\n",
    "\n",
    "#write_exif(images_and_data[0].image_path, 'test')"
   ]
  },
  {
   "cell_type": "code",
   "execution_count": null,
   "id": "21a14d29",
   "metadata": {},
   "outputs": [],
   "source": [
    "from nbdev.doclinks import nbdev_export\n",
    "nbdev_export()"
   ]
  }
 ],
 "metadata": {
  "kernelspec": {
   "display_name": "Python 3 (ipykernel)",
   "language": "python",
   "name": "python3"
  }
 },
 "nbformat": 4,
 "nbformat_minor": 5
}
