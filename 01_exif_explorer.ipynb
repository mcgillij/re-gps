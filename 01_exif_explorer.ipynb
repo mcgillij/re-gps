{
 "cells": [
  {
   "cell_type": "code",
   "execution_count": null,
   "id": "2541f36f",
   "metadata": {},
   "outputs": [],
   "source": [
    "#| default_exp exif_explorer"
   ]
  },
  {
   "cell_type": "markdown",
   "id": "5d5fe1e0",
   "metadata": {},
   "source": [
    "# exif_explorer\n",
    "\n",
    "> try parsing some exif data from Google Photo takeout"
   ]
  },
  {
   "cell_type": "code",
   "execution_count": null,
   "id": "e6721f4a",
   "metadata": {},
   "outputs": [],
   "source": [
    "#| hide\n",
    "from nbdev.showdoc import *"
   ]
  },
  {
   "cell_type": "code",
   "execution_count": null,
   "id": "00d7dfe2",
   "metadata": {},
   "outputs": [],
   "source": [
    "#| export\n",
    "from collections import namedtuple\n",
    "from exif import Image"
   ]
  },
  {
   "cell_type": "code",
   "execution_count": null,
   "id": "76165fb4",
   "metadata": {},
   "outputs": [],
   "source": [
    "#| export\n",
    "# datastructure for image and their exif data\n",
    "\n",
    "ImageData = namedtuple(\"ImageData\", [\"image_path\", \"exif\"])"
   ]
  },
  {
   "cell_type": "code",
   "execution_count": null,
   "id": "fd60fa9e",
   "metadata": {},
   "outputs": [],
   "source": [
    "# get a list of all *.jpg's in our sample dir\n",
    "import glob\n",
    "path = 'sample-data/*.jpg'\n",
    "images = glob.glob(path)"
   ]
  },
  {
   "cell_type": "markdown",
   "id": "51ca8e25",
   "metadata": {},
   "source": [
    "We will want to have a list of images to query the exif data"
   ]
  },
  {
   "cell_type": "code",
   "execution_count": null,
   "id": "cda93441",
   "metadata": {},
   "outputs": [
    {
     "data": {
      "text/plain": [
       "2"
      ]
     },
     "execution_count": null,
     "metadata": {},
     "output_type": "execute_result"
    }
   ],
   "source": [
    "len(images)"
   ]
  },
  {
   "cell_type": "markdown",
   "id": "2002a021",
   "metadata": {},
   "source": [
    "See about reading/writing exif data to images"
   ]
  },
  {
   "cell_type": "code",
   "execution_count": null,
   "id": "42dbf8ea",
   "metadata": {},
   "outputs": [],
   "source": [
    "#| export\n",
    "def open_image(image_path):\n",
    "    with open(image_path, \"rb\") as f:\n",
    "        return Image(f)\n",
    "\n",
    "def extract_exif(images):\n",
    "    # Some images don't have a DateTimeOriginal set, so prune those out.\n",
    "    return [ImageData(i, open_image(i)) for i in images if open_image(i).get('datetime_original')]"
   ]
  },
  {
   "cell_type": "code",
   "execution_count": null,
   "id": "37601a21",
   "metadata": {},
   "outputs": [],
   "source": [
    "images_and_data = extract_exif(images)\n",
    "assert open_image(images_and_data[0].image_path).make == \"Google\"\n",
    "test_image = open_image(images_and_data[0].image_path)"
   ]
  },
  {
   "cell_type": "code",
   "execution_count": null,
   "id": "0d7f6a74",
   "metadata": {},
   "outputs": [],
   "source": [
    "images_and_data = extract_exif(images)\n",
    "assert len(images_and_data) == 2"
   ]
  },
  {
   "cell_type": "code",
   "execution_count": null,
   "id": "75af10f1",
   "metadata": {},
   "outputs": [
    {
     "data": {
      "text/plain": [
       "'2018:11:30 07:57:21'"
      ]
     },
     "execution_count": null,
     "metadata": {},
     "output_type": "execute_result"
    }
   ],
   "source": [
    "images_and_data[0].exif.get('datetime_original')"
   ]
  },
  {
   "cell_type": "code",
   "execution_count": null,
   "id": "21a14d29",
   "metadata": {},
   "outputs": [],
   "source": [
    "#| hide\n",
    "from nbdev.doclinks import nbdev_export\n",
    "nbdev_export()"
   ]
  }
 ],
 "metadata": {
  "kernelspec": {
   "display_name": "Python 3 (ipykernel)",
   "language": "python",
   "name": "python3"
  }
 },
 "nbformat": 4,
 "nbformat_minor": 5
}
