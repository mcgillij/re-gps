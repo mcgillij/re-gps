{
 "cells": [
  {
   "cell_type": "code",
   "execution_count": null,
   "id": "2541f36f",
   "metadata": {},
   "outputs": [],
   "source": [
    "#| default_exp exif_explorer"
   ]
  },
  {
   "cell_type": "markdown",
   "id": "5d5fe1e0",
   "metadata": {},
   "source": [
    "# exif_explorer\n",
    "\n",
    "> try parsing some exif data from Google Photo takeout"
   ]
  },
  {
   "cell_type": "code",
   "execution_count": null,
   "id": "e6721f4a",
   "metadata": {},
   "outputs": [],
   "source": [
    "#| hide\n",
    "from nbdev.showdoc import *"
   ]
  },
  {
   "cell_type": "code",
   "execution_count": null,
   "id": "00d7dfe2",
   "metadata": {},
   "outputs": [],
   "source": [
    "#| export\n",
    "from collections import namedtuple\n",
    "import glob\n",
    "\n",
    "from PIL import Image\n",
    "from PIL.ExifTags import TAGS"
   ]
  },
  {
   "cell_type": "code",
   "execution_count": null,
   "id": "76165fb4",
   "metadata": {},
   "outputs": [],
   "source": [
    "#| export\n",
    "# datastructure for image and their exif data\n",
    "\n",
    "ImageData = namedtuple(\"ImageData\", [\"image_path\", \"exif\"])"
   ]
  },
  {
   "cell_type": "code",
   "execution_count": null,
   "id": "fd60fa9e",
   "metadata": {},
   "outputs": [],
   "source": [
    "#| export\n",
    "\n",
    "# get a list of all *.jpg's in our sample dir\n",
    "path = 'sample-data/vegas/*.jpg'\n",
    "images = glob.glob(path)"
   ]
  },
  {
   "cell_type": "code",
   "execution_count": null,
   "id": "cda93441",
   "metadata": {},
   "outputs": [
    {
     "data": {
      "text/plain": [
       "['sample-data/vegas/MVIMG_20181126_194541.jpg',\n",
       " 'sample-data/vegas/IMG_20181129_162952.jpg',\n",
       " 'sample-data/vegas/IMG_20181129_225115.jpg',\n",
       " 'sample-data/vegas/IMG_20181129_130709.jpg',\n",
       " 'sample-data/vegas/MVIMG_20181129_163316.jpg',\n",
       " 'sample-data/vegas/MVIMG_20181129_162454.jpg',\n",
       " 'sample-data/vegas/IMG_20181129_232355.jpg',\n",
       " 'sample-data/vegas/MVIMG_20181129_130619.jpg',\n",
       " 'sample-data/vegas/MVIMG_20181126_101615.jpg',\n",
       " 'sample-data/vegas/IMG_20181129_231241.jpg',\n",
       " 'sample-data/vegas/IMG_20181129_205739.jpg',\n",
       " 'sample-data/vegas/MVIMG_20181126_123022.jpg',\n",
       " 'sample-data/vegas/MVIMG_20181129_123837.jpg',\n",
       " 'sample-data/vegas/00000IMG_00000_BURST20181129201757840_COVER.jpg',\n",
       " 'sample-data/vegas/IMG_20181130_075721.jpg',\n",
       " 'sample-data/vegas/IMG_20181129_194332.jpg',\n",
       " 'sample-data/vegas/MVIMG_20181129_231250.jpg',\n",
       " 'sample-data/vegas/IMG_20181129_163324.jpg',\n",
       " 'sample-data/vegas/IMG_20181129_115616.jpg',\n",
       " 'sample-data/vegas/MVIMG_20181129_210937.jpg',\n",
       " 'sample-data/vegas/00012IMG_00012_BURST20181126140948_COVER.jpg',\n",
       " 'sample-data/vegas/IMG_20181127_080204.jpg',\n",
       " 'sample-data/vegas/MVIMG_20181129_201829.jpg',\n",
       " 'sample-data/vegas/IMG_20181129_163640.jpg',\n",
       " 'sample-data/vegas/MVIMG_20181126_132952-EFFECTS.jpg',\n",
       " 'sample-data/vegas/IMG_20181129_182655.jpg',\n",
       " 'sample-data/vegas/MVIMG_20181129_150339.jpg',\n",
       " 'sample-data/vegas/MVIMG_20181129_232022.jpg',\n",
       " 'sample-data/vegas/IMG_20181129_130713.jpg',\n",
       " 'sample-data/vegas/MVIMG_20181129_163040-EFFECTS.jpg',\n",
       " 'sample-data/vegas/MVIMG_20181129_220209.jpg',\n",
       " 'sample-data/vegas/IMG_20181126_065741.jpg',\n",
       " 'sample-data/vegas/00001IMG_00001_BURST20181129215546_COVER.jpg',\n",
       " 'sample-data/vegas/IMG_20181126_095209.jpg',\n",
       " 'sample-data/vegas/MVIMG_20181130_075737.jpg',\n",
       " 'sample-data/vegas/MVIMG_20181126_101025.jpg',\n",
       " 'sample-data/vegas/IMG_20181130_075730.jpg',\n",
       " 'sample-data/vegas/IMG_20181126_133420.jpg',\n",
       " 'sample-data/vegas/IMG_20181127_213742.jpg',\n",
       " 'sample-data/vegas/MVIMG_20181126_101610.jpg',\n",
       " 'sample-data/vegas/00006IMG_00006_BURST20181126162309_COVER.jpg',\n",
       " 'sample-data/vegas/MVIMG_20181129_163040.jpg',\n",
       " 'sample-data/vegas/MVIMG_20181129_130125.jpg',\n",
       " 'sample-data/vegas/IMG_20181126_162313.jpg',\n",
       " 'sample-data/vegas/IMG_20181129_215544.jpg',\n",
       " 'sample-data/vegas/00000IMG_00000_BURST20181129201756315_COVER.jpg',\n",
       " 'sample-data/vegas/MVIMG_20181126_101454-EFFECTS-edited.jpg',\n",
       " 'sample-data/vegas/MVIMG_20181126_091848.jpg',\n",
       " 'sample-data/vegas/MVIMG_20181126_140958.jpg',\n",
       " 'sample-data/vegas/MVIMG_20181126_132952.jpg',\n",
       " 'sample-data/vegas/MVIMG_20181129_232025.jpg',\n",
       " 'sample-data/vegas/MVIMG_20181129_215545.jpg',\n",
       " 'sample-data/vegas/MVIMG_20181130_075656.jpg',\n",
       " 'sample-data/vegas/MVIMG_20181129_182658.jpg',\n",
       " 'sample-data/vegas/IMG_20181126_194544.jpg',\n",
       " 'sample-data/vegas/IMG_20181129_130558.jpg',\n",
       " 'sample-data/vegas/MVIMG_20181126_101454-EFFECTS.jpg',\n",
       " 'sample-data/vegas/IMG_20181129_210941.jpg',\n",
       " 'sample-data/vegas/MVIMG_20181126_132952-EFFECTS-edited.jpg',\n",
       " 'sample-data/vegas/IMG_20181126_101457.jpg',\n",
       " 'sample-data/vegas/IMG_20181129_130546.jpg',\n",
       " 'sample-data/vegas/MVIMG_20181129_231024.jpg',\n",
       " 'sample-data/vegas/IMG_20181126_103416.jpg',\n",
       " 'sample-data/vegas/MVIMG_20181126_101454.jpg',\n",
       " 'sample-data/vegas/MVIMG_20181129_162251.jpg',\n",
       " 'sample-data/vegas/IMG_20181126_100829.jpg',\n",
       " 'sample-data/vegas/IMG_20181129_232352.jpg',\n",
       " 'sample-data/vegas/MVIMG_20181130_075714.jpg',\n",
       " 'sample-data/vegas/MVIMG_20181127_212658.jpg',\n",
       " 'sample-data/vegas/MVIMG_20181129_163040-EFFECTS-edited.jpg',\n",
       " 'sample-data/vegas/IMG_20181127_232652.jpg',\n",
       " 'sample-data/vegas/IMG_20181126_091247.jpg',\n",
       " 'sample-data/vegas/MVIMG_20181126_102128.jpg',\n",
       " 'sample-data/vegas/MVIMG_20181129_163440.jpg',\n",
       " 'sample-data/vegas/IMG_20181129_130550.jpg',\n",
       " 'sample-data/vegas/MVIMG_20181130_075643.jpg',\n",
       " 'sample-data/vegas/MVIMG_20181126_101425.jpg',\n",
       " 'sample-data/vegas/IMG_20181126_101345.jpg',\n",
       " 'sample-data/vegas/MVIMG_20181129_163043.jpg',\n",
       " 'sample-data/vegas/MVIMG_20181129_210935.jpg',\n",
       " 'sample-data/vegas/MVIMG_20181126_101143.jpg',\n",
       " 'sample-data/vegas/IMG_20181129_125759.jpg',\n",
       " 'sample-data/vegas/IMG_20181127_080204-EFFECTS.jpg',\n",
       " 'sample-data/vegas/IMG_20181126_134537.jpg',\n",
       " 'sample-data/vegas/MVIMG_20181129_205816.jpg',\n",
       " 'sample-data/vegas/IMG_20181129_201852.jpg',\n",
       " 'sample-data/vegas/IMG_20181129_225117.jpg',\n",
       " 'sample-data/vegas/IMG_20181126_091449.jpg',\n",
       " 'sample-data/vegas/IMG_20181126_091721.jpg',\n",
       " 'sample-data/vegas/IMG_20181126_120702.jpg',\n",
       " 'sample-data/vegas/IMG_20181126_065722.jpg',\n",
       " 'sample-data/vegas/MVIMG_20181129_123840.jpg',\n",
       " 'sample-data/vegas/IMG_20181127_080204-EFFECTS-edited.jpg',\n",
       " 'sample-data/vegas/MVIMG_20181129_162246.jpg',\n",
       " 'sample-data/vegas/IMG_20181129_163313.jpg',\n",
       " 'sample-data/vegas/IMG_20181129_130711.jpg',\n",
       " 'sample-data/vegas/IMG_20181126_065712.jpg',\n",
       " 'sample-data/vegas/IMG_20181126_101733.jpg',\n",
       " 'sample-data/vegas/MVIMG_20181129_152640.jpg',\n",
       " 'sample-data/vegas/IMG_20181129_163125.jpg',\n",
       " 'sample-data/vegas/MVIMG_20181129_112203.jpg']"
      ]
     },
     "execution_count": null,
     "metadata": {},
     "output_type": "execute_result"
    }
   ],
   "source": [
    "images"
   ]
  },
  {
   "cell_type": "code",
   "execution_count": null,
   "id": "f131a604",
   "metadata": {},
   "outputs": [],
   "source": [
    "#| export \n",
    "\n",
    "def get_exif(image_path):\n",
    "  i = Image.open(image_path)\n",
    "  info = i._getexif()\n",
    "  return {TAGS.get(tag): value for tag, value in info.items()}"
   ]
  },
  {
   "cell_type": "code",
   "execution_count": null,
   "id": "103f27d6",
   "metadata": {},
   "outputs": [
    {
     "data": {
      "text/plain": [
       "50"
      ]
     },
     "execution_count": null,
     "metadata": {},
     "output_type": "execute_result"
    }
   ],
   "source": [
    "image_path = \"sample-data/vegas/IMG_20181126_065712.jpg\"\n",
    "get_exif(image_path).get('ISOSpeedRatings')"
   ]
  },
  {
   "cell_type": "code",
   "execution_count": null,
   "id": "66783875",
   "metadata": {},
   "outputs": [],
   "source": [
    "#| export\n",
    "\n",
    "def extract_exif(images):\n",
    "    return [ImageData(i, get_exif(i)) for i in images]"
   ]
  },
  {
   "cell_type": "code",
   "execution_count": null,
   "id": "0d7f6a74",
   "metadata": {},
   "outputs": [],
   "source": [
    "images_and_data = extract_exif(images)\n",
    "assert len(images_and_data) == 101\n"
   ]
  },
  {
   "cell_type": "code",
   "execution_count": null,
   "id": "75af10f1",
   "metadata": {},
   "outputs": [
    {
     "data": {
      "text/plain": [
       "'2018:11:26 19:45:41'"
      ]
     },
     "execution_count": null,
     "metadata": {},
     "output_type": "execute_result"
    }
   ],
   "source": [
    "images_and_data[0].exif.get('DateTimeOriginal')"
   ]
  },
  {
   "cell_type": "code",
   "execution_count": null,
   "id": "21a14d29",
   "metadata": {},
   "outputs": [],
   "source": [
    "from nbdev.doclinks import nbdev_export\n",
    "nbdev_export()"
   ]
  }
 ],
 "metadata": {
  "kernelspec": {
   "display_name": "Python 3 (ipykernel)",
   "language": "python",
   "name": "python3"
  }
 },
 "nbformat": 4,
 "nbformat_minor": 5
}
